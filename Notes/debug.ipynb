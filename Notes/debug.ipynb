{
 "cells": [
  {
   "cell_type": "markdown",
   "metadata": {},
   "source": [
    "The debug=True setting in app.run(debug=True) enables Flask's debug mode, which provides two main features:\n",
    "1. Automatic Code Reloading:\n",
    " - When the debug mode is enabled, Flask automatically detects code changes and restarts the server. This feature saves time during development by not requiring manual server restarts.\n",
    " - How it works:\n",
    "    - Flask uses a file monitoring mechanism, provided by the Werkzeug library, to detect changes in the source files.\n",
    "    - This mechanism periodically checks for modifications in any file within the application directory. When it detects changes, it triggers a \"reloader,\" which terminates the running server and starts a new instance.\n",
    "    - Implementation Details:\n",
    "        - The default reloader in Werkzeug uses the inotify system on Linux (if available) or the Watchdog package, which can monitor file system events across different operating systems.\n",
    "        - Alternatively, the reloader can fall back to polling, where it scans the file modification timestamps every few seconds and restarts if a change is detected.\n",
    "\n",
    "2. Interactive Debugger:\n",
    "\n",
    "- The debug mode also enables an interactive debugger. If an exception occurs while handling a request, this debugger intercepts the error and shows a stack trace with details about the issue.\n",
    "\n",
    "- This debugger is accessible via a web-based interface, allowing you to inspect variables, view the code context, and even run commands in the context where the error occurred. This functionality is provided by the Werkzeug library and is called the debugger shell."
   ]
  }
 ],
 "metadata": {
  "language_info": {
   "name": "python"
  }
 },
 "nbformat": 4,
 "nbformat_minor": 2
}
