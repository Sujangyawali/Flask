{
 "cells": [
  {
   "cell_type": "markdown",
   "metadata": {},
   "source": [
    "Cookie is a small piece of data sent by a web server to a web browser and stored locally by the browser. Cookies are typically used to track and store information about the user's interactions with a website, such as session identifiers, user preferences, authentication tokens, and other data relevant to the user's browsing session.\n",
    "\n",
    "In Flask, you can work with cookies using the request and response objects provided by Flask's flask module."
   ]
  },
  {
   "cell_type": "code",
   "execution_count": null,
   "metadata": {},
   "outputs": [],
   "source": [
    "# Reading Cookies:\n",
    "# To read cookies sent by the client (browser), you can use the request.cookies attribute, which returns a dictionary-like object\n",
    "# containing the cookies associated with the current request.\n",
    "from flask import Flask, request\n",
    "\n",
    "app = Flask(__name__)\n",
    "\n",
    "@app.route('/')\n",
    "def index():\n",
    "    # Reading a cookie named 'username'\n",
    "    username = request.cookies.get('username')\n",
    "    return f'Hello, {username}'\n",
    "\n",
    "if __name__ == '__main__':\n",
    "    app.run()\n"
   ]
  },
  {
   "cell_type": "code",
   "execution_count": null,
   "metadata": {},
   "outputs": [],
   "source": [
    "# Setting Cookies:\n",
    "# To set cookies to be sent to the client (browser),\n",
    "# you can use the set_cookie() method of the response object.\n",
    "from flask import Flask, make_response\n",
    "\n",
    "app = Flask(__name__)\n",
    "\n",
    "@app.route('/')\n",
    "def index():\n",
    "    # Creating a response\n",
    "    response = make_response('Setting cookie')\n",
    "    \n",
    "    # Setting a cookie named 'username'\n",
    "    response.set_cookie('username', 'John Doe')\n",
    "    return response\n",
    "\n",
    "if __name__ == '__main__':\n",
    "    app.run()"
   ]
  },
  {
   "cell_type": "code",
   "execution_count": null,
   "metadata": {},
   "outputs": [],
   "source": [
    "# Deleting Cookies:\n",
    "# To delete a cookie, you can set its value to an empty string and \n",
    "# set its expiration time to a past date.\n",
    "from flask import Flask, make_response\n",
    "\n",
    "app = Flask(__name__)\n",
    "\n",
    "@app.route('/')\n",
    "def index():\n",
    "    # Creating a response\n",
    "    response = make_response('Deleting cookie')\n",
    "    \n",
    "    # Deleting a cookie named 'username'\n",
    "    response.set_cookie('username', '', expires=0)\n",
    "    return response\n",
    "\n",
    "if __name__ == '__main__':\n",
    "    app.run()\n"
   ]
  },
  {
   "cell_type": "markdown",
   "metadata": {},
   "source": [
    " Cookies are indeed sent by the client (browser) to the server with each HTTP request. Let me clarify:\n",
    "\n",
    "When a web server sends a response to the client, it can include one or more Set-Cookie headers to instruct the client to store cookies. These cookies are then automatically sent back to the server with subsequent HTTP requests from the client."
   ]
  }
 ],
 "metadata": {
  "language_info": {
   "name": "python"
  }
 },
 "nbformat": 4,
 "nbformat_minor": 2
}
