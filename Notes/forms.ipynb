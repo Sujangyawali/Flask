{
 "cells": [
  {
   "cell_type": "markdown",
   "metadata": {},
   "source": [
    "FlaskForm, which is part of the Flask-WTF extension. Flask-WTF integrates Flask with WTForms, allowing for easy handling of forms in Flask applications.\n",
    "\n",
    "Flask-WTF is an extension for Flask that integrates Flask with WTForms, a flexible forms validation and rendering library for Python web development. Flask-WTF provides a convenient way to handle form data, including validation, CSRF protection, and rendering.\n",
    "\n",
    "Key Features of Flask-WTF\n",
    "Form Handling: Simplifies the process of defining and handling web forms in Flask applications.\n",
    "Validation: Integrates with WTForms to provide robust validation for form fields.\n",
    "CSRF Protection: Automatically handles Cross-Site Request Forgery protection using Flask's built-in security features.\n",
    "Rendering: Provides tools to render forms easily in Jinja templates."
   ]
  },
  {
   "cell_type": "markdown",
   "metadata": {},
   "source": [
    "make form class define number of attributes, their lebels, validators-->get info in main app --->render other pages if required"
   ]
  },
  {
   "cell_type": "markdown",
   "metadata": {},
   "source": [
    "Cross-Site Request Forgery (CSRF) protection is a security measure to prevent unauthorized commands from being transmitted from a user that a web application trusts. A CSRF attack tricks the victim into submitting a malicious request, often without their knowledge, through methods such as social engineering, like sending a link via email or chat.\n",
    "\n",
    "How CSRF Works\n",
    "Victim Authentication: The user logs into a trusted website (e.g., their bank account).\n",
    "Session Persistence: The website sets a session cookie in the user's browser to remember the authenticated session.\n",
    "Malicious Request: The attacker tricks the user into visiting a malicious website or clicking a link that sends a request to the trusted site.\n",
    "Action Execution: Because the user is authenticated, the request is executed with their credentials, performing an unintended action on the trusted site.\n",
    "CSRF Protection Mechanisms\n",
    "CSRF protection typically involves ensuring that requests made to change state (like POST, PUT, DELETE) include some kind of verification token that a malicious site can't easily obtain.\n",
    "\n",
    "Token-Based Protection\n",
    "CSRF Token Generation: When the user loads a form, the server generates a unique token and includes it in the form as a hidden field or in the HTTP headers.\n",
    "Token Submission: The token is submitted with the form data.\n",
    "Token Verification: The server verifies that the token submitted with the form matches the token stored in the user's session."
   ]
  },
  {
   "cell_type": "code",
   "execution_count": null,
   "metadata": {},
   "outputs": [],
   "source": []
  }
 ],
 "metadata": {
  "language_info": {
   "name": "python"
  }
 },
 "nbformat": 4,
 "nbformat_minor": 2
}
