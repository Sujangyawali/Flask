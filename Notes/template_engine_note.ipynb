{
 "cells": [
  {
   "cell_type": "markdown",
   "metadata": {},
   "source": [
    "Template Engine and It's components:\n",
    "\n",
    "A template engine is a software tool or framework that helps developers generate dynamic content by combining templates with data. Templates are predefined structures with placeholders, and a template engine processes these templates, replacing placeholders with actual values or content dynamically. This allows for the separation of presentation logic from the application's core logic, promoting code organization and maintainability.\n",
    "\n",
    "A typical template engine contains the following components:\n",
    "\n",
    "Template Definition:\n",
    "Templates are the core files or structures that define the layout of the dynamic content. They include placeholders, variables, control structures, and expressions that will be filled in with real data during rendering.\n",
    "\n",
    "Placeholder Syntax:\n",
    "A template engine uses specific syntax to define placeholders within templates. Commonly used symbols include double curly braces ({{ ... }}) for variables and expressions, and curly braces with percent signs ({% ... %}) for control structures (like loops and conditionals).\n",
    "\n",
    "Data Binding:\n",
    "The template engine binds or associates data with the placeholders in the template. This can be achieved by passing variables, objects, or dictionaries to the template engine.\n",
    "\n",
    "Rendering Engine:\n",
    "The rendering engine is responsible for processing the templates and replacing placeholders with the provided data. It interprets the template syntax and executes the necessary logic to generate the final output.\n",
    "\n",
    "Escape Mechanism:\n",
    "To handle security concerns like Cross-Site Scripting (XSS), template engines often provide an escape mechanism to ensure that user-generated or untrusted content is properly sanitized before being rendered.\n",
    "\n",
    "Control Structures:\n",
    "Template engines may support control structures such as loops, conditionals, and iterations. These structures allow developers to create dynamic content based on the provided data.\n",
    "\n",
    "Inclusion and Extending:\n",
    "Advanced template engines often support features like template inclusion and extension. This allows developers to reuse common parts of templates across multiple pages or create a hierarchical structure for templates.\n",
    "Popular template engines in various programming languages include Jinja2 for Python, Twig for PHP, Mustache for JavaScript, and Thymeleaf for Java.\n",
    "\n",
    "In summary, a template engine is a crucial component in web development that facilitates the creation of dynamic and maintainable web pages by separating the presentation logic from the application's core logic."
   ]
  },
  {
   "cell_type": "markdown",
   "metadata": {},
   "source": [
    "Jinja2 in flask\n",
    "\n",
    "Jinja2 is a template engine for Python, and it is commonly used with Flask to generate dynamic content in web applications. Let's break down how Jinja2 works with Flask and provide an example of the process flow.\n",
    "\n",
    "Template Definition:\n",
    "In a Flask application, templates are created using Jinja2 syntax and are typically stored in a folder named \"templates\" within the project.\n",
    "Templates contain placeholders, variables, control structures, and expressions enclosed in double curly braces ({{ ... }} and {% ... %}).\n",
    "Example template (template_example.html):\n",
    "<!DOCTYPE html>\n",
    "<html>\n",
    "<head>\n",
    "    <title>{{ title }}</title>\n",
    "</head>\n",
    "<body>\n",
    "    <h1>Hello, {{ name }}!</h1>\n",
    "</body>\n",
    "</html>\n",
    "\n",
    "\n",
    "Rendering the Template in Flask:\n",
    "In a Flask route or view function, you use the render_template function to render a template and provide values for the placeholders.\n",
    "Example Flask application (app.py):\n",
    "from flask import Flask, render_template\n",
    "\n",
    "app = Flask(__name__)\n",
    "\n",
    "@app.route('/greet/<name>')\n",
    "def greet(name):\n",
    "    return render_template('template_example.html', title='Greeting Page', name=name)\n",
    "\n",
    "\n",
    "In this example, the greet route renders the template_example.html template and passes the values for the placeholders (title and name).\n",
    "\n",
    "Jinja2 Processing:\n",
    "When the render_template function is called, Flask internally uses Jinja2 to process the template.\n",
    "Jinja2 replaces placeholders with the provided values and evaluates expressions and control structures.\n",
    "\n",
    "Generated HTML:\n",
    "The result of Jinja2 processing is a fully rendered HTML page with dynamic content.\n",
    "<!DOCTYPE html>\n",
    "<html>\n",
    "<head>\n",
    "    <title>Greeting Page</title>\n",
    "</head>\n",
    "<body>\n",
    "    <h1>Hello, John!</h1>\n",
    "</body>\n",
    "</html>\n",
    "\n",
    "\n",
    "Sending the HTML to the Client:\n",
    "Finally, the rendered HTML is sent as the HTTP response to the client's browser.\n",
    "When a user accesses the URL /greet/John, they will see the generated HTML with the personalized greeting.\n",
    "\n",
    "In summary, Jinja2 allows Flask to generate dynamic HTML content by rendering templates. Templates define the structure with placeholders, and Flask, through the render_template function, replaces these placeholders with actual values when serving the web page. This approach makes it easy to create dynamic and personalized web pages in a Flask application."
   ]
  },
  {
   "cell_type": "markdown",
   "metadata": {},
   "source": [
    "Where Jinja comes in paly?\n",
    "The job of rendering Jinja templates primarily happens within the Flask application itself. Flask incorporates the Jinja2 template engine directly as part of its framework, and the template rendering is an integral part of the request-handling process within Flask.\n",
    "\n",
    "Here's how the process generally works:\n",
    "\n",
    "Flask Application:\n",
    "When a request is made to a Flask route or view function, and that function renders a template, it's the Flask application that initiates the template rendering process.\n",
    "\n",
    "Jinja2 Integration:\n",
    "Flask comes with built-in integration of the Jinja2 template engine. The Flask application is aware of where the templates are located (usually in a folder named \"templates\" within the project directory).\n",
    "\n",
    "Template Rendering:\n",
    "The Flask application, using Jinja2, processes the template by replacing placeholders, evaluating expressions, and executing control structures.\n",
    "Data provided by the Flask application (such as variables from the route or data from the view function) is used to fill in the placeholders within the template.\n",
    "\n",
    "HTML Output:\n",
    "The result of the template rendering process is a fully formed HTML page with dynamic content based on the provided data.\n",
    "\n",
    "HTTP Response:\n",
    "The HTML output is then sent as the HTTP response to the client (e.g., web browser).\n",
    "The interaction between Flask and Jinja2 is seamless because Flask comes bundled with Jinja2 and provides a convenient render_template function to facilitate the rendering process. The Flask application takes care of coordinating the template rendering process within the context of handling a specific HTTP request.\n",
    "\n",
    "While the web server (e.g., Gunicorn, uWSGI) and the Werkzeug WSGI toolkit play crucial roles in handling the communication between the client and the Flask application, the template rendering itself is handled by the Flask application using Jinja2. The web server and WSGI toolkit are involved in the overall request-response cycle but not directly in the rendering of Jinja templates."
   ]
  },
  {
   "cell_type": "markdown",
   "metadata": {},
   "source": [
    "The jinja2 template engine uses the following delimiters for escaping from HTML.\n",
    "\n",
    "{% ... %} for Statements\n",
    "{{ ... }} for Expressions to print to the template output\n",
    "{# ... #} for Comments not included in the template output\n",
    "# ... ## for Line Statements"
   ]
  },
  {
   "cell_type": "markdown",
   "metadata": {},
   "source": [
    "Template inheritance in flask\n",
    "Template inheritance is a powerful feature provided by Flask's Jinja2 templating engine that allows you to create a base template with common elements and then extend or override specific parts of that template in child templates.\n",
    "\n",
    "Here's how you can implement template inheritance in Flask:\n",
    "\n",
    "1. Create a Base Template:\n",
    "Create a base template that contains the common structure and elements shared by multiple pages of your website. This base template typically includes the HTML structure, header, footer, and any other common elements."
   ]
  },
  {
   "cell_type": "markdown",
   "metadata": {},
   "source": [
    "--base.html\n",
    "<!DOCTYPE html>\n",
    "<html>\n",
    "<head>\n",
    "    <title>{% block title %}My Website{% endblock %}</title>\n",
    "</head>\n",
    "<body>\n",
    "    <header>\n",
    "        <h1>My Website</h1>\n",
    "        <nav>\n",
    "            <ul>\n",
    "                <li><a href=\"/\">Home</a></li>\n",
    "                <li><a href=\"/about\">About</a></li>\n",
    "                <li><a href=\"/contact\">Contact</a></li>\n",
    "            </ul>\n",
    "        </nav>\n",
    "    </header>\n",
    "    \n",
    "    <main>\n",
    "        {% block content %}\n",
    "        {% endblock %}\n",
    "    </main>\n",
    "    \n",
    "    <footer>\n",
    "        &copy; 2024 My Website\n",
    "    </footer>\n",
    "</body>\n",
    "</html>\n"
   ]
  },
  {
   "cell_type": "markdown",
   "metadata": {},
   "source": [
    "2. Extend the Base Template:\n",
    "Create child templates that extend the base template and override specific blocks with content specific to each page."
   ]
  },
  {
   "cell_type": "markdown",
   "metadata": {},
   "source": [
    "--home.html\n",
    "{% extends 'base.html' %}\n",
    "\n",
    "{% block title %}Home - My Website{% endblock %}\n",
    "\n",
    "{% block content %}\n",
    "    <h2>Welcome to My Website</h2>\n",
    "    <p>This is the home page content.</p>\n",
    "{% endblock %}\n"
   ]
  },
  {
   "cell_type": "markdown",
   "metadata": {},
   "source": [
    "--contact.html\n",
    "{% extends 'base.html' %}\n",
    "\n",
    "{% block title %}About - My Website{% endblock %}\n",
    "\n",
    "{% block content %}\n",
    "    <h2>About Us</h2>\n",
    "    <p>This is the about page content.</p>\n",
    "{% endblock %}\n"
   ]
  },
  {
   "cell_type": "markdown",
   "metadata": {},
   "source": [
    "With this setup, each child template (home.html, about.html, contact.html) extends the base template (base.html) and provides content specific to its page by overriding the appropriate blocks (title and content). The common header, footer, and other elements defined in the base template are automatically included in all pages.\n",
    "\n",
    "When rendering these templates in Flask views, you simply return the name of the child template, and Flask will automatically render the child template with the content provided in the appropriate blocks."
   ]
  },
  {
   "cell_type": "code",
   "execution_count": 1,
   "metadata": {},
   "outputs": [
    {
     "ename": "ModuleNotFoundError",
     "evalue": "No module named 'flask'",
     "output_type": "error",
     "traceback": [
      "\u001b[1;31m---------------------------------------------------------------------------\u001b[0m",
      "\u001b[1;31mModuleNotFoundError\u001b[0m                       Traceback (most recent call last)",
      "Cell \u001b[1;32mIn[1], line 1\u001b[0m\n\u001b[1;32m----> 1\u001b[0m \u001b[38;5;28;01mfrom\u001b[39;00m \u001b[38;5;21;01mflask\u001b[39;00m \u001b[38;5;28;01mimport\u001b[39;00m render_template\n\u001b[0;32m      3\u001b[0m \u001b[38;5;129m@app\u001b[39m\u001b[38;5;241m.\u001b[39mroute(\u001b[38;5;124m'\u001b[39m\u001b[38;5;124m/\u001b[39m\u001b[38;5;124m'\u001b[39m)\n\u001b[0;32m      4\u001b[0m \u001b[38;5;28;01mdef\u001b[39;00m \u001b[38;5;21mhome\u001b[39m():\n\u001b[0;32m      5\u001b[0m     \u001b[38;5;28;01mreturn\u001b[39;00m render_template(\u001b[38;5;124m'\u001b[39m\u001b[38;5;124mhome.html\u001b[39m\u001b[38;5;124m'\u001b[39m)\n",
      "\u001b[1;31mModuleNotFoundError\u001b[0m: No module named 'flask'"
     ]
    }
   ],
   "source": [
    "from flask import render_template\n",
    "\n",
    "@app.route('/')\n",
    "def home():\n",
    "    return render_template('home.html')\n",
    "\n",
    "@app.route('/about')\n",
    "def about():\n",
    "    return render_template('about.html')\n",
    "\n",
    "@app.route('/contact')\n",
    "def contact():\n",
    "    return render_template('contact.html')\n"
   ]
  }
 ],
 "metadata": {
  "kernelspec": {
   "display_name": "Python 3",
   "language": "python",
   "name": "python3"
  },
  "language_info": {
   "codemirror_mode": {
    "name": "ipython",
    "version": 3
   },
   "file_extension": ".py",
   "mimetype": "text/x-python",
   "name": "python",
   "nbconvert_exporter": "python",
   "pygments_lexer": "ipython3",
   "version": "3.11.5"
  }
 },
 "nbformat": 4,
 "nbformat_minor": 2
}
